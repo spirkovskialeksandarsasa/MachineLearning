{
 "cells": [
  {
   "cell_type": "code",
   "execution_count": null,
   "metadata": {},
   "outputs": [],
   "source": [
    "from sklearn.datasets import fetch_california_housing\n",
    "california_housing = fetch_california_housing(as_frame=True)\n",
    "print(california_housing)"
   ]
  },
  {
   "cell_type": "code",
   "execution_count": null,
   "metadata": {},
   "outputs": [],
   "source": [
    "import seaborn as sns\n",
    "\n",
    "def plot_jointplot(df, x_col, y_col):\n",
    "    sns.jointplot(data=df, x=x_col, y=y_col, kind='hex', color='purple')\n",
    "plot_jointplot(california_housing.data, 'MedInc', 'HouseAge')"
   ]
  },
  {
   "cell_type": "code",
   "execution_count": null,
   "metadata": {},
   "outputs": [],
   "source": [
    "import numpy as np\n",
    "X = california_housing.data\n",
    "X_min = X.min(axis=0)\n",
    "X_max = X.max(axis=0)\n",
    "X_norm = (X - X_min) / (X_max - X_min)\n",
    "print(X_norm)\n",
    "sns.scatterplot(data=X_norm, x='AveRooms', y='Population')"
   ]
  },
  {
   "cell_type": "code",
   "execution_count": null,
   "metadata": {},
   "outputs": [],
   "source": [
    "from sklearn.linear_model import LinearRegression\n",
    "from sklearn.model_selection import train_test_split\n",
    "from sklearn.metrics import mean_squared_error\n",
    "\n",
    "X_train, X_test, y_train, y_test = train_test_split(california_housing.data, california_housing.target, test_size=0.2, random_state=42)\n",
    "\n",
    "linear_regression = LinearRegression()\n",
    "linear_regression.fit(X_train, y_train)\n",
    "\n",
    "y_prediction = linear_regression.predict(X_test)\n",
    "\n",
    "mse = mean_squared_error(y_test, y_prediction)\n",
    "print(\"Mean Squared error is \", mse)\n"
   ]
  },
  {
   "cell_type": "code",
   "execution_count": null,
   "metadata": {},
   "outputs": [],
   "source": [
    "from sklearn.linear_model import RidgeCV\n",
    "\n",
    "X_train, X_test, y_train, y_test = train_test_split(california_housing.data, california_housing.target, test_size=0.2, random_state=42)\n",
    "\n",
    "ridge_regression = RidgeCV(alphas=[1e-3, 1e-2, 1e-1, 1, 10], cv=5)\n",
    "ridge_regression.fit(X_train, y_train)\n",
    "\n",
    "y_prediction = ridge_regression.predict(X_test)\n",
    "\n",
    "mse = mean_squared_error(y_test, y_prediction)\n",
    "print(\"Mean Squared error is \", mse)"
   ]
  },
  {
   "cell_type": "code",
   "execution_count": null,
   "metadata": {},
   "outputs": [],
   "source": [
    "from sklearn.linear_model import LassoCV\n",
    "\n",
    "X_train, X_test, y_train, y_test = train_test_split(california_housing.data, california_housing.target, test_size=0.2, random_state=42)\n",
    "\n",
    "lasso_regression = LassoCV(alphas=[1e-3, 1e-2, 1e-1, 1, 10], cv=5)\n",
    "lasso_regression.fit(X_train, y_train)\n",
    "\n",
    "y_prediction = lasso_regression.predict(X_test)\n",
    "\n",
    "mse = mean_squared_error(y_test, y_prediction)\n",
    "print(\"Mean Squared error is \", mse)"
   ]
  }
 ],
 "metadata": {
  "kernelspec": {
   "display_name": "Python 3",
   "language": "python",
   "name": "python3"
  },
  "language_info": {
   "codemirror_mode": {
    "name": "ipython",
    "version": 3
   },
   "file_extension": ".py",
   "mimetype": "text/x-python",
   "name": "python",
   "nbconvert_exporter": "python",
   "pygments_lexer": "ipython3",
   "version": "3.11.3"
  },
  "orig_nbformat": 4
 },
 "nbformat": 4,
 "nbformat_minor": 2
}
